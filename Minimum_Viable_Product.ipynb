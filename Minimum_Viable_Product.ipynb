{
 "cells": [
  {
   "cell_type": "code",
   "execution_count": 9,
   "id": "cc0260af-0231-4d9a-8553-969ba91508f2",
   "metadata": {},
   "outputs": [],
   "source": [
    "import os\n",
    "from dotenv import load_dotenv\n",
    "from coinbase.rest import RESTClient\n",
    "from datetime import datetime, timedelta\n",
    "import json"
   ]
  },
  {
   "cell_type": "code",
   "execution_count": 2,
   "id": "9e558c20-f101-476e-aba0-285d07bc8063",
   "metadata": {},
   "outputs": [],
   "source": [
    "load_dotenv()\n",
    "api_key = os.getenv(\"api_key\")\n",
    "api_secret = os.getenv(\"api_secret\")\n",
    "\n",
    "# Create Instance\n",
    "client = RESTClient(api_key=api_key, api_secret=api_secret)"
   ]
  },
  {
   "cell_type": "markdown",
   "id": "4eeb8458-4c20-4635-a6b8-fb4e219910d9",
   "metadata": {},
   "source": [
    "### Get BTC/USD data from the Coinbase"
   ]
  },
  {
   "cell_type": "code",
   "execution_count": 3,
   "id": "2dc63467-973c-4e94-b1ba-6a3824f97183",
   "metadata": {},
   "outputs": [],
   "source": [
    "import ccxt\n",
    "import pandas as pd\n",
    "from datetime import datetime\n",
    "\n",
    "# Initialize the Coinbase exchange\n",
    "exchange = ccxt.coinbase()  # Use coinbasepro for the public API\n",
    "\n",
    "# Define the symbol and time frame\n",
    "symbol = 'BTC/USD'\n",
    "timeframe = '1d'  # Daily data\n",
    "\n",
    "# Fetch historical data (e.g., the last 30 days)\n",
    "since = exchange.parse8601((datetime.now() - pd.Timedelta(days=30)).isoformat())\n",
    "ohlcv = exchange.fetch_ohlcv(symbol, timeframe, since)\n",
    "\n",
    "# Create a DataFrame\n",
    "df = pd.DataFrame(ohlcv, columns=['timestamp', 'open', 'high', 'low', 'close', 'volume'])\n",
    "\n",
    "# Convert timestamp to a readable date format\n",
    "df['timestamp'] = pd.to_datetime(df['timestamp'], unit='ms')\n"
   ]
  },
  {
   "cell_type": "markdown",
   "id": "02a2a7ff-8bd7-4799-958f-d78a5ef8f5a8",
   "metadata": {},
   "source": [
    "### OpenAI\n",
    "#### Link : https://platform.openai.com/playground/chat?models=gpt-4o"
   ]
  },
  {
   "cell_type": "markdown",
   "id": "d840ea25-c22d-47eb-ac73-04028af51536",
   "metadata": {},
   "source": [
    "<img width=\"800\" alt=\"image\" src=\"https://github.com/user-attachments/assets/25489cd0-876b-4aca-8e46-921c5bfd04bb\">"
   ]
  },
  {
   "cell_type": "code",
   "execution_count": 4,
   "id": "f306f258-0b62-451b-b7be-fea3a3e3d268",
   "metadata": {},
   "outputs": [],
   "source": [
    "from openai import OpenAI\n",
    "client = OpenAI()\n",
    "\n",
    "response = client.chat.completions.create(\n",
    "  model=\"gpt-4o\",\n",
    "  messages=[\n",
    "    {\n",
    "      \"role\": \"system\",\n",
    "      \"content\": [\n",
    "        {\n",
    "          \"type\": \"text\",\n",
    "          \"text\": \"You are an expert in Bitcoin investing. Tell me whether to buy, sell, or hold at the moment based on the chart data provided. response in json format.\\n\\nResponse Example:\\n{\\\"decision\\\":\\\"buy\\\",\\\"reason\\\":\\\"some technical reason\\\"}\\n{\\\"decision\\\":\\\"sell\\\",\\\"reason\\\":\\\"some technical reason\\\"}\\n{\\\"decision\\\":\\\"hold\\\",\\\"reason\\\":\\\"some technical reason\\\"}\"\n",
    "        }\n",
    "      ]\n",
    "    },\n",
    "    {\n",
    "      \"role\": \"user\",\n",
    "      \"content\": [\n",
    "        {\n",
    "          \"type\": \"text\",\n",
    "          \"text\": \"{\\\"timestamp\\\":{\\\"0\\\":1724112000000,\\\"1\\\":1724198400000,\\\"2\\\":1724284800000,\\\"3\\\":1724371200000,\\\"4\\\":1724457600000,\\\"5\\\":1724544000000,\\\"6\\\":1724630400000,\\\"7\\\":1724716800000,\\\"8\\\":1724803200000,\\\"9\\\":1724889600000,\\\"10\\\":1724976000000,\\\"11\\\":1725062400000,\\\"12\\\":1725148800000,\\\"13\\\":1725235200000,\\\"14\\\":1725321600000,\\\"15\\\":1725408000000,\\\"16\\\":1725494400000,\\\"17\\\":1725580800000,\\\"18\\\":1725667200000,\\\"19\\\":1725753600000,\\\"20\\\":1725840000000,\\\"21\\\":1725926400000,\\\"22\\\":1726012800000,\\\"23\\\":1726099200000,\\\"24\\\":1726185600000,\\\"25\\\":1726272000000,\\\"26\\\":1726358400000,\\\"27\\\":1726444800000,\\\"28\\\":1726531200000,\\\"29\\\":1726617600000},\\\"open\\\":{\\\"0\\\":59455.81,\\\"1\\\":59017.59,\\\"2\\\":61167.54,\\\"3\\\":60383.28,\\\"4\\\":64091.63,\\\"5\\\":64179.63,\\\"6\\\":64250.01,\\\"7\\\":62840.09,\\\"8\\\":59437.68,\\\"9\\\":59047.94,\\\"10\\\":59353.12,\\\"11\\\":59117.59,\\\"12\\\":58968.37,\\\"13\\\":57291.21,\\\"14\\\":59138.89,\\\"15\\\":57460.5,\\\"16\\\":57971.0,\\\"17\\\":56156.82,\\\"18\\\":53950.0,\\\"19\\\":54159.6,\\\"20\\\":54881.1,\\\"21\\\":57047.82,\\\"22\\\":57641.15,\\\"23\\\":57352.92,\\\"24\\\":58137.33,\\\"25\\\":60543.35,\\\"26\\\":60012.34,\\\"27\\\":59122.7,\\\"28\\\":58209.76,\\\"29\\\":60317.38},\\\"high\\\":{\\\"0\\\":61457.03,\\\"1\\\":61849.98,\\\"2\\\":61430.48,\\\"3\\\":64987.0,\\\"4\\\":64529.78,\\\"5\\\":65050.08,\\\"6\\\":64509.36,\\\"7\\\":63226.26,\\\"8\\\":60236.98,\\\"9\\\":61194.09,\\\"10\\\":59929.63,\\\"11\\\":59446.99,\\\"12\\\":59070.55,\\\"13\\\":59423.0,\\\"14\\\":59825.7,\\\"15\\\":58531.25,\\\"16\\\":58326.12,\\\"17\\\":56995.0,\\\"18\\\":54847.0,\\\"19\\\":55315.95,\\\"20\\\":58119.97,\\\"21\\\":58050.35,\\\"22\\\":58014.35,\\\"23\\\":58600.0,\\\"24\\\":60670.0,\\\"25\\\":60660.0,\\\"26\\\":60402.34,\\\"27\\\":59214.15,\\\"28\\\":61373.41,\\\"29\\\":61358.0},\\\"low\\\":{\\\"0\\\":58571.96,\\\"1\\\":58793.89,\\\"2\\\":59750.0,\\\"3\\\":60343.2,\\\"4\\\":63564.22,\\\"5\\\":63793.74,\\\"6\\\":62806.8,\\\"7\\\":58025.49,\\\"8\\\":57851.62,\\\"9\\\":58729.39,\\\"10\\\":57700.0,\\\"11\\\":58739.31,\\\"12\\\":57200.0,\\\"13\\\":57119.01,\\\"14\\\":57394.49,\\\"15\\\":55555.0,\\\"16\\\":55628.04,\\\"17\\\":52530.0,\\\"18\\\":53733.1,\\\"19\\\":53623.95,\\\"20\\\":54565.56,\\\"21\\\":56377.76,\\\"22\\\":55534.41,\\\"23\\\":57311.15,\\\"24\\\":57630.01,\\\"25\\\":59436.8,\\\"26\\\":58695.75,\\\"27\\\":57477.0,\\\"28\\\":57620.27,\\\"29\\\":59174.5},\\\"close\\\":{\\\"0\\\":59017.59,\\\"1\\\":61163.28,\\\"2\\\":60383.29,\\\"3\\\":64086.72,\\\"4\\\":64179.63,\\\"5\\\":64251.93,\\\"6\\\":62840.0,\\\"7\\\":59439.64,\\\"8\\\":59045.88,\\\"9\\\":59364.47,\\\"10\\\":59112.77,\\\"11\\\":58968.37,\\\"12\\\":57299.0,\\\"13\\\":59139.83,\\\"14\\\":57468.84,\\\"15\\\":57971.0,\\\"16\\\":56156.82,\\\"17\\\":53950.01,\\\"18\\\":54156.33,\\\"19\\\":54881.11,\\\"20\\\":57053.9,\\\"21\\\":57645.59,\\\"22\\\":57352.79,\\\"23\\\":58137.54,\\\"24\\\":60543.35,\\\"25\\\":60012.35,\\\"26\\\":59122.33,\\\"27\\\":58208.75,\\\"28\\\":60312.6,\\\"29\\\":60423.1},\\\"volume\\\":{\\\"0\\\":11062.05279919,\\\"1\\\":13380.11101719,\\\"2\\\":9608.6955368,\\\"3\\\":17852.77117167,\\\"4\\\":5020.91676004,\\\"5\\\":4012.30764642,\\\"6\\\":10741.96651081,\\\"7\\\":14195.89496578,\\\"8\\\":10001.12169866,\\\"9\\\":10933.22040343,\\\"10\\\":9382.9124508,\\\"11\\\":1368.21775121,\\\"12\\\":4411.05388122,\\\"13\\\":4318.6544603,\\\"14\\\":8264.44971184,\\\"15\\\":13715.96171494,\\\"16\\\":12281.57828747,\\\"17\\\":18495.45064356,\\\"18\\\":3284.57722628,\\\"19\\\":3684.86816392,\\\"20\\\":10203.03329517,\\\"21\\\":6433.21371111,\\\"22\\\":11678.94297124,\\\"23\\\":10175.62390483,\\\"24\\\":11935.95544754,\\\"25\\\":3147.39019631,\\\"26\\\":3975.3568185,\\\"27\\\":7654.10991835,\\\"28\\\":11701.89074715,\\\"29\\\":10441.50380985}}\"\n",
    "        }\n",
    "      ]\n",
    "    },\n",
    "    {\n",
    "      \"role\": \"assistant\",\n",
    "      \"content\": [\n",
    "        {\n",
    "          \"type\": \"text\",\n",
    "          \"text\": df.to_json()\n",
    "        }\n",
    "      ]\n",
    "    }\n",
    "  ],\n",
    "  response_format={\n",
    "    \"type\": \"json_object\"\n",
    "  }\n",
    ")"
   ]
  },
  {
   "cell_type": "code",
   "execution_count": 5,
   "id": "ed4bad23-b150-45ab-aced-059de7128eee",
   "metadata": {},
   "outputs": [
    {
     "name": "stdout",
     "output_type": "stream",
     "text": [
      "ChatCompletion(id='chatcmpl-A9KtHkWBIv2ZVLVTJyc7tbkFCygVJ', choices=[Choice(finish_reason='stop', index=0, logprobs=None, message=ChatCompletionMessage(content='{\\n  \"decision\": \"hold\",\\n  \"reason\": \"The chart indicates a period of high volatility, with significant fluctuations in price and volume. The recent pattern shows both upward and downward movements without a clear trend. Current levels are relatively high, indicating that immediate investment could be risky until a more defined trend emerges.\"\\n}', refusal=None, role='assistant', function_call=None, tool_calls=None))], created=1726788619, model='gpt-4o-2024-05-13', object='chat.completion', service_tier=None, system_fingerprint='fp_e375328146', usage=CompletionUsage(completion_tokens=65, prompt_tokens=2810, total_tokens=2875, completion_tokens_details=CompletionTokensDetails(reasoning_tokens=0)))\n"
     ]
    }
   ],
   "source": [
    "print(response)"
   ]
  },
  {
   "cell_type": "code",
   "execution_count": 13,
   "id": "a8238d04-2d56-4cb8-836e-9d53a6dfc9a9",
   "metadata": {
    "scrolled": true
   },
   "outputs": [
    {
     "name": "stdout",
     "output_type": "stream",
     "text": [
      "{\n",
      "  \"decision\": \"hold\",\n",
      "  \"reason\": \"The chart indicates a period of high volatility, with significant fluctuations in price and volume. The recent pattern shows both upward and downward movements without a clear trend. Current levels are relatively high, indicating that immediate investment could be risky until a more defined trend emerges.\"\n",
      "}\n"
     ]
    }
   ],
   "source": [
    "result = response.choices[0].message.content\n",
    "print(result)"
   ]
  },
  {
   "cell_type": "markdown",
   "id": "77c8b5e1-c658-4e0f-bc73-543ffa7ec029",
   "metadata": {},
   "source": [
    "### Proceed with actual automatic trading based on AI judgment"
   ]
  },
  {
   "cell_type": "code",
   "execution_count": 14,
   "id": "6e9c8177-6146-4ec1-9a77-07e05a3d5a49",
   "metadata": {},
   "outputs": [
    {
     "name": "stdout",
     "output_type": "stream",
     "text": [
      "<class 'dict'>\n",
      "hold\n"
     ]
    }
   ],
   "source": [
    "result = json.loads(result)\n",
    "print(type(result))\n",
    "print(result['decision'])"
   ]
  }
 ],
 "metadata": {
  "kernelspec": {
   "display_name": "Python 3 (ipykernel)",
   "language": "python",
   "name": "python3"
  },
  "language_info": {
   "codemirror_mode": {
    "name": "ipython",
    "version": 3
   },
   "file_extension": ".py",
   "mimetype": "text/x-python",
   "name": "python",
   "nbconvert_exporter": "python",
   "pygments_lexer": "ipython3",
   "version": "3.8.19"
  }
 },
 "nbformat": 4,
 "nbformat_minor": 5
}
