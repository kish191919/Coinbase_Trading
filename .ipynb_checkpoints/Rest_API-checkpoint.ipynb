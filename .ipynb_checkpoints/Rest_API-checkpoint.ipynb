{
 "cells": [
  {
   "cell_type": "code",
   "execution_count": 15,
   "id": "a0142353-f094-4696-9c80-8ccb4641ea77",
   "metadata": {},
   "outputs": [],
   "source": [
    "import os\n",
    "from dotenv import load_dotenv\n",
    "from coinbase.rest import RESTClient\n",
    "from json import dumps\n",
    "from datetime import datetime, timedelta\n",
    "import pandas as pd\n",
    "import uuid\n"
   ]
  },
  {
   "cell_type": "markdown",
   "id": "9c5064c9-bb99-4e68-92a8-69c414ed53c3",
   "metadata": {},
   "source": [
    "## Provide API key"
   ]
  },
  {
   "cell_type": "code",
   "execution_count": 20,
   "id": "2e2ffefb-1d57-4bc2-9f25-cc667baacaa5",
   "metadata": {},
   "outputs": [],
   "source": [
    "load_dotenv()\n",
    "api_key = os.getenv(\"api_key\")\n",
    "api_secret = os.getenv(\"api_secret\")\n",
    "client = RESTClient(api_key=api_key, api_secret=api_secret)"
   ]
  },
  {
   "cell_type": "code",
   "execution_count": 21,
   "id": "9a263a29-a2b2-4075-8d9f-a8d19283b508",
   "metadata": {},
   "outputs": [
    {
     "name": "stdout",
     "output_type": "stream",
     "text": [
      "{\n",
      "  \"accounts\": [\n",
      "    {\n",
      "      \"uuid\": \"3b3fdb04-5020-5ef6-bd7d-6c6648bc5d49\",\n",
      "      \"name\": \"Cash (USD)\",\n",
      "      \"currency\": \"USD\",\n",
      "      \"available_balance\": {\n",
      "        \"value\": \"10\",\n",
      "        \"currency\": \"USD\"\n",
      "      },\n",
      "      \"default\": false,\n",
      "      \"active\": true,\n",
      "      \"created_at\": \"2024-09-14T12:43:41.863Z\",\n",
      "      \"updated_at\": \"2024-09-17T21:17:13.260Z\",\n",
      "      \"deleted_at\": null,\n",
      "      \"type\": \"ACCOUNT_TYPE_FIAT\",\n",
      "      \"ready\": true,\n",
      "      \"hold\": {\n",
      "        \"value\": \"0\",\n",
      "        \"currency\": \"USD\"\n",
      "      },\n",
      "      \"retail_portfolio_id\": \"241ed7c1-eaa4-5044-89d8-7a64de1ae161\"\n",
      "    },\n",
      "    {\n",
      "      \"uuid\": \"9104c762-73c4-5817-89e9-19eabc923bd9\",\n",
      "      \"name\": \"BTC Wallet\",\n",
      "      \"currency\": \"BTC\",\n",
      "      \"available_balance\": {\n",
      "        \"value\": \"0\",\n",
      "        \"currency\": \"BTC\"\n",
      "      },\n",
      "      \"default\": true,\n",
      "      \"active\": true,\n",
      "      \"created_at\": \"2024-09-14T12:42:15.122Z\",\n",
      "      \"updated_at\": \"2024-09-14T12:44:28.125Z\",\n",
      "      \"deleted_at\": null,\n",
      "      \"type\": \"ACCOUNT_TYPE_CRYPTO\",\n",
      "      \"ready\": true,\n",
      "      \"hold\": {\n",
      "        \"value\": \"0\",\n",
      "        \"currency\": \"BTC\"\n",
      "      },\n",
      "      \"retail_portfolio_id\": \"241ed7c1-eaa4-5044-89d8-7a64de1ae161\"\n",
      "    }\n",
      "  ],\n",
      "  \"has_next\": false,\n",
      "  \"cursor\": \"\",\n",
      "  \"size\": 2\n",
      "}\n"
     ]
    }
   ],
   "source": [
    "accounts = client.get_accounts()\n",
    "print(dumps(accounts, indent=2))"
   ]
  },
  {
   "cell_type": "code",
   "execution_count": null,
   "id": "e49a25ab-1ef7-4722-872b-5720bd3a7d69",
   "metadata": {},
   "outputs": [],
   "source": []
  }
 ],
 "metadata": {
  "kernelspec": {
   "display_name": "Python 3 (ipykernel)",
   "language": "python",
   "name": "python3"
  },
  "language_info": {
   "codemirror_mode": {
    "name": "ipython",
    "version": 3
   },
   "file_extension": ".py",
   "mimetype": "text/x-python",
   "name": "python",
   "nbconvert_exporter": "python",
   "pygments_lexer": "ipython3",
   "version": "3.8.19"
  }
 },
 "nbformat": 4,
 "nbformat_minor": 5
}
