{
 "cells": [
  {
   "cell_type": "markdown",
   "id": "281f1049-28c5-4084-a71a-cd4a85e91997",
   "metadata": {},
   "source": [
    "### Required library"
   ]
  },
  {
   "cell_type": "code",
   "execution_count": 1,
   "id": "a0142353-f094-4696-9c80-8ccb4641ea77",
   "metadata": {},
   "outputs": [],
   "source": [
    "import os\n",
    "from dotenv import load_dotenv\n",
    "from coinbase.rest import RESTClient\n",
    "from json import dumps\n",
    "from datetime import datetime, timedelta\n",
    "import pandas as pd\n",
    "import uuid"
   ]
  },
  {
   "cell_type": "markdown",
   "id": "42b7c7ff-7516-432b-85cf-13c13d813377",
   "metadata": {
    "jp-MarkdownHeadingCollapsed": true
   },
   "source": [
    "##### Link : https://docs.cdp.coinbase.com/advanced-trade/docs/sdk-rest-client-trade/"
   ]
  },
  {
   "cell_type": "markdown",
   "id": "9c5064c9-bb99-4e68-92a8-69c414ed53c3",
   "metadata": {},
   "source": [
    "### 1) Provide API key"
   ]
  },
  {
   "cell_type": "code",
   "execution_count": 2,
   "id": "2e2ffefb-1d57-4bc2-9f25-cc667baacaa5",
   "metadata": {},
   "outputs": [],
   "source": [
    "load_dotenv()\n",
    "api_key = os.getenv(\"api_key\")\n",
    "api_secret = os.getenv(\"api_secret\")\n",
    "\n",
    "# Create Instance\n",
    "client = RESTClient(api_key=api_key, api_secret=api_secret)"
   ]
  },
  {
   "cell_type": "markdown",
   "id": "a18d6143-d5ec-4d9d-a283-a492391b56e9",
   "metadata": {},
   "source": [
    "### 2) Get account information"
   ]
  },
  {
   "cell_type": "code",
   "execution_count": 3,
   "id": "9a263a29-a2b2-4075-8d9f-a8d19283b508",
   "metadata": {},
   "outputs": [],
   "source": [
    "accounts = client.get_accounts()\n",
    "# print(dumps(accounts, indent=2))"
   ]
  },
  {
   "cell_type": "markdown",
   "id": "c32dd27f-a73a-431e-bf1a-65ae727e1f35",
   "metadata": {},
   "source": [
    "### 3) Get specific account information"
   ]
  },
  {
   "cell_type": "code",
   "execution_count": 4,
   "id": "a457cd34-1cb8-4318-bc27-b7590504e561",
   "metadata": {},
   "outputs": [],
   "source": [
    "account_uuid = os.getenv(\"account_uuid\")\n",
    "account_details = client.get_account(account_uuid)\n",
    "# print(dumps(account_details, indent=2))"
   ]
  },
  {
   "cell_type": "markdown",
   "id": "32b45c0d-e7e7-43a2-95c5-978633a478cb",
   "metadata": {},
   "source": [
    "### 4) Get Time"
   ]
  },
  {
   "cell_type": "code",
   "execution_count": 5,
   "id": "b2cbd67e-1b0a-4890-9416-e91c2e5d21cd",
   "metadata": {},
   "outputs": [
    {
     "name": "stdout",
     "output_type": "stream",
     "text": [
      "Time_dict : {'iso': '2024-09-22T02:06:59Z', 'epochSeconds': '1726970819', 'epochMillis': '1726970819980'}\n",
      "ISO Time : 2024-09-22T02:06:59Z\n",
      "Epoch Seconds : 1726970819\n",
      "Epoch Millis : 1726970819980\n"
     ]
    }
   ],
   "source": [
    "time_dict = client.get_unix_time()\n",
    "iso_time = time_dict[\"iso\"]\n",
    "epoch_seconds = int(time_dict[\"epochSeconds\"])\n",
    "epoch_millis = int(time_dict[\"epochMillis\"])\n",
    "\n",
    "print(f\"Time_dict : {time_dict}\")\n",
    "print(f\"ISO Time : {iso_time}\")\n",
    "print(f\"Epoch Seconds : {epoch_seconds}\")\n",
    "print(f\"Epoch Millis : {epoch_millis}\")"
   ]
  },
  {
   "cell_type": "markdown",
   "id": "9408ccec-f9b8-4ad5-b03c-b39e82882f8b",
   "metadata": {},
   "source": [
    "### 5) Retrieve Fees Charged"
   ]
  },
  {
   "cell_type": "code",
   "execution_count": 6,
   "id": "5dd147af-5869-4ff2-bce1-52e2939602bc",
   "metadata": {},
   "outputs": [
    {
     "name": "stdout",
     "output_type": "stream",
     "text": [
      "<class 'dict'>\n",
      "{'total_volume': 1.2579989, 'total_fees': 0.0150959872, 'fee_tier': {'pricing_tier': 'Advanced 1', 'usd_from': '0', 'usd_to': '1000', 'taker_fee_rate': '0.012', 'maker_fee_rate': '0.006', 'aop_from': '', 'aop_to': ''}, 'margin_rate': None, 'goods_and_services_tax': None, 'advanced_trade_only_volume': 1.2579989, 'advanced_trade_only_fees': 0.0150959872, 'coinbase_pro_volume': 0, 'coinbase_pro_fees': 0, 'total_balance': '8.84', 'has_promo_fee': False}\n"
     ]
    }
   ],
   "source": [
    "product_type = \"SPOT\"\n",
    "contract_expiry_type = \"UNKNOW_CONTRACT\"\n",
    "summary = client.get_transaction_summary()\n",
    "print(type(summary))\n",
    "print(summary)"
   ]
  },
  {
   "cell_type": "markdown",
   "id": "abc9ca5d-6c59-4957-a93c-2e020f80da1d",
   "metadata": {},
   "source": [
    "### 6) Get Market Data"
   ]
  },
  {
   "cell_type": "code",
   "execution_count": 7,
   "id": "575a757f-8fe3-4573-b567-42cc46ee2ecb",
   "metadata": {},
   "outputs": [
    {
     "name": "stderr",
     "output_type": "stream",
     "text": [
      "/var/folders/2l/k8sqwr_j3gs338sv_rft9kjm0000gn/T/ipykernel_3228/2130603460.py:18: FutureWarning: The behavior of 'to_datetime' with 'unit' when parsing strings is deprecated. In a future version, strings will be parsed as datetime strings, matching the behavior without a 'unit'. To retain the old behavior, explicitly cast ints or floats to numeric type before calling to_datetime.\n",
      "  df_candles['start'] = pd.to_datetime(df_candles['start'], unit='s')\n"
     ]
    },
    {
     "data": {
      "text/html": [
       "<div>\n",
       "<style scoped>\n",
       "    .dataframe tbody tr th:only-of-type {\n",
       "        vertical-align: middle;\n",
       "    }\n",
       "\n",
       "    .dataframe tbody tr th {\n",
       "        vertical-align: top;\n",
       "    }\n",
       "\n",
       "    .dataframe thead th {\n",
       "        text-align: right;\n",
       "    }\n",
       "</style>\n",
       "<table border=\"1\" class=\"dataframe\">\n",
       "  <thead>\n",
       "    <tr style=\"text-align: right;\">\n",
       "      <th></th>\n",
       "      <th>start</th>\n",
       "      <th>low</th>\n",
       "      <th>high</th>\n",
       "      <th>open</th>\n",
       "      <th>close</th>\n",
       "      <th>volume</th>\n",
       "    </tr>\n",
       "  </thead>\n",
       "  <tbody>\n",
       "    <tr>\n",
       "      <th>0</th>\n",
       "      <td>2024-09-22 01:59:28</td>\n",
       "      <td>63001.01</td>\n",
       "      <td>63111.55</td>\n",
       "      <td>63050.01</td>\n",
       "      <td>63011.69</td>\n",
       "      <td>24.78385521</td>\n",
       "    </tr>\n",
       "    <tr>\n",
       "      <th>1</th>\n",
       "      <td>2024-09-22 00:59:44</td>\n",
       "      <td>63022.51</td>\n",
       "      <td>63307.82</td>\n",
       "      <td>63239.87</td>\n",
       "      <td>63050.16</td>\n",
       "      <td>70.35648229</td>\n",
       "    </tr>\n",
       "    <tr>\n",
       "      <th>2</th>\n",
       "      <td>2024-09-22 00:00:00</td>\n",
       "      <td>63123.12</td>\n",
       "      <td>63467.99</td>\n",
       "      <td>63362.74</td>\n",
       "      <td>63243.02</td>\n",
       "      <td>143.15137339</td>\n",
       "    </tr>\n",
       "    <tr>\n",
       "      <th>3</th>\n",
       "      <td>2024-09-21 23:00:16</td>\n",
       "      <td>63163.3</td>\n",
       "      <td>63575.63</td>\n",
       "      <td>63233.02</td>\n",
       "      <td>63362.74</td>\n",
       "      <td>177.4608383</td>\n",
       "    </tr>\n",
       "    <tr>\n",
       "      <th>4</th>\n",
       "      <td>2024-09-21 22:00:32</td>\n",
       "      <td>63058.63</td>\n",
       "      <td>63249.61</td>\n",
       "      <td>63098.76</td>\n",
       "      <td>63233.05</td>\n",
       "      <td>58.67386718</td>\n",
       "    </tr>\n",
       "  </tbody>\n",
       "</table>\n",
       "</div>"
      ],
      "text/plain": [
       "                start       low      high      open     close        volume\n",
       "0 2024-09-22 01:59:28  63001.01  63111.55  63050.01  63011.69   24.78385521\n",
       "1 2024-09-22 00:59:44  63022.51  63307.82  63239.87  63050.16   70.35648229\n",
       "2 2024-09-22 00:00:00  63123.12  63467.99  63362.74  63243.02  143.15137339\n",
       "3 2024-09-21 23:00:16   63163.3  63575.63  63233.02  63362.74   177.4608383\n",
       "4 2024-09-21 22:00:32  63058.63  63249.61  63098.76  63233.05   58.67386718"
      ]
     },
     "execution_count": 7,
     "metadata": {},
     "output_type": "execute_result"
    }
   ],
   "source": [
    "product_id = \"BTC-USD\"\n",
    "\n",
    "# 86400 = 24 x 60 x 60\n",
    "end = datetime.now()\n",
    "start = end - timedelta(hours=24)\n",
    "\n",
    "end_unix = int(end.timestamp())\n",
    "start_unix = int(start.timestamp())\n",
    "\n",
    "# ONE_MINUTE, FIVE_MINUTE, FIFTEEN_MINUTE, THIRTY_MINUTE, ONE_HOUR, TWO_HOUR, SIX_HOUR, ONE_DATE\n",
    "granularity = \"ONE_HOUR\"\n",
    "\n",
    "data = client.get_candles(product_id, start_unix, end_unix, granularity)\n",
    "candle_data = data[\"candles\"]\n",
    "\n",
    "# unit = (D,s,ms,us,ns)\n",
    "df_candles = pd.DataFrame(candle_data)\n",
    "df_candles['start'] = pd.to_datetime(df_candles['start'], unit='s')\n",
    "\n",
    "df_candles.head()\n",
    "# print(end_unix)\n",
    "# print(start_unix)"
   ]
  },
  {
   "cell_type": "markdown",
   "id": "ac1500a7-9f82-49ec-9189-b4d98d600be0",
   "metadata": {},
   "source": [
    "### 7) Get Trade Data"
   ]
  },
  {
   "cell_type": "code",
   "execution_count": 8,
   "id": "bcb1a982-86ca-47d1-928e-b32e3e282e2f",
   "metadata": {},
   "outputs": [
    {
     "data": {
      "text/html": [
       "<div>\n",
       "<style scoped>\n",
       "    .dataframe tbody tr th:only-of-type {\n",
       "        vertical-align: middle;\n",
       "    }\n",
       "\n",
       "    .dataframe tbody tr th {\n",
       "        vertical-align: top;\n",
       "    }\n",
       "\n",
       "    .dataframe thead th {\n",
       "        text-align: right;\n",
       "    }\n",
       "</style>\n",
       "<table border=\"1\" class=\"dataframe\">\n",
       "  <thead>\n",
       "    <tr style=\"text-align: right;\">\n",
       "      <th></th>\n",
       "      <th>trade_id</th>\n",
       "      <th>product_id</th>\n",
       "      <th>price</th>\n",
       "      <th>size</th>\n",
       "      <th>time</th>\n",
       "      <th>side</th>\n",
       "      <th>bid</th>\n",
       "      <th>ask</th>\n",
       "    </tr>\n",
       "  </thead>\n",
       "  <tbody>\n",
       "    <tr>\n",
       "      <th>0</th>\n",
       "      <td>694666959</td>\n",
       "      <td>BTC-USD</td>\n",
       "      <td>63012.75</td>\n",
       "      <td>0.006322</td>\n",
       "      <td>2024-09-22T02:07:19.021713Z</td>\n",
       "      <td>SELL</td>\n",
       "      <td></td>\n",
       "      <td></td>\n",
       "    </tr>\n",
       "    <tr>\n",
       "      <th>1</th>\n",
       "      <td>694666958</td>\n",
       "      <td>BTC-USD</td>\n",
       "      <td>63007.19</td>\n",
       "      <td>0.00299276</td>\n",
       "      <td>2024-09-22T02:07:18.689708Z</td>\n",
       "      <td>BUY</td>\n",
       "      <td></td>\n",
       "      <td></td>\n",
       "    </tr>\n",
       "    <tr>\n",
       "      <th>2</th>\n",
       "      <td>694666957</td>\n",
       "      <td>BTC-USD</td>\n",
       "      <td>63007.96</td>\n",
       "      <td>0.00077</td>\n",
       "      <td>2024-09-22T02:07:18.689708Z</td>\n",
       "      <td>BUY</td>\n",
       "      <td></td>\n",
       "      <td></td>\n",
       "    </tr>\n",
       "    <tr>\n",
       "      <th>3</th>\n",
       "      <td>694666956</td>\n",
       "      <td>BTC-USD</td>\n",
       "      <td>63007.97</td>\n",
       "      <td>0.00043202</td>\n",
       "      <td>2024-09-22T02:07:18.689708Z</td>\n",
       "      <td>BUY</td>\n",
       "      <td></td>\n",
       "      <td></td>\n",
       "    </tr>\n",
       "    <tr>\n",
       "      <th>4</th>\n",
       "      <td>694666955</td>\n",
       "      <td>BTC-USD</td>\n",
       "      <td>63010.51</td>\n",
       "      <td>0.00077</td>\n",
       "      <td>2024-09-22T02:07:18.689708Z</td>\n",
       "      <td>BUY</td>\n",
       "      <td></td>\n",
       "      <td></td>\n",
       "    </tr>\n",
       "  </tbody>\n",
       "</table>\n",
       "</div>"
      ],
      "text/plain": [
       "    trade_id product_id     price        size                         time  \\\n",
       "0  694666959    BTC-USD  63012.75    0.006322  2024-09-22T02:07:19.021713Z   \n",
       "1  694666958    BTC-USD  63007.19  0.00299276  2024-09-22T02:07:18.689708Z   \n",
       "2  694666957    BTC-USD  63007.96     0.00077  2024-09-22T02:07:18.689708Z   \n",
       "3  694666956    BTC-USD  63007.97  0.00043202  2024-09-22T02:07:18.689708Z   \n",
       "4  694666955    BTC-USD  63010.51     0.00077  2024-09-22T02:07:18.689708Z   \n",
       "\n",
       "   side bid ask  \n",
       "0  SELL          \n",
       "1   BUY          \n",
       "2   BUY          \n",
       "3   BUY          \n",
       "4   BUY          "
      ]
     },
     "execution_count": 8,
     "metadata": {},
     "output_type": "execute_result"
    }
   ],
   "source": [
    "product_id = \"BTC-USD\"\n",
    "limit = \"50\"\n",
    "data = client.get_market_trades(product_id, limit)\n",
    "trade_data = data[\"trades\"]\n",
    "\n",
    "df_trade = pd.DataFrame(trade_data)\n",
    "df_trade.head()\n"
   ]
  },
  {
   "cell_type": "markdown",
   "id": "161ac809-5ca7-4764-8dad-330c58dfddfc",
   "metadata": {},
   "source": [
    "### 8) Place an order"
   ]
  },
  {
   "cell_type": "markdown",
   "id": "8d70efdb-3b42-46e8-8543-d380e100b378",
   "metadata": {},
   "source": [
    "- uuid 모듈은 Universally Unique Identifier(전 세계적으로 고유한 식별자)를 생성\n",
    "- UUID는 16바이트(128비트)의 값으로 표현\n",
    "- uuid4() 함수는 랜덤 UUID를 생성\n",
    "- hex는 32자리의 16진수 문자열을 반환"
   ]
  },
  {
   "cell_type": "code",
   "execution_count": 9,
   "id": "6def4778-afcf-40a5-817a-5133c77c0dbb",
   "metadata": {},
   "outputs": [
    {
     "data": {
      "text/plain": [
       "'53775a71abc64bb69f9db007699a001e'"
      ]
     },
     "execution_count": 9,
     "metadata": {},
     "output_type": "execute_result"
    }
   ],
   "source": [
    "client_order_id = str(uuid.uuid4().hex)\n",
    "client_order_id"
   ]
  },
  {
   "cell_type": "code",
   "execution_count": 17,
   "id": "ca45c7c4-8ed4-4c8a-bf5e-ed21e2b6ec05",
   "metadata": {},
   "outputs": [
    {
     "name": "stdout",
     "output_type": "stream",
     "text": [
      "{\n",
      "  \"success\": true,\n",
      "  \"success_response\": {\n",
      "    \"order_id\": \"e51d9871-cecf-4b51-962a-23a1237edc68\",\n",
      "    \"product_id\": \"BTC-USD\",\n",
      "    \"side\": \"BUY\",\n",
      "    \"client_order_id\": \"1560dd6435e54a779dea04cf5dd532ae\",\n",
      "    \"attached_order_id\": \"\"\n",
      "  },\n",
      "  \"order_configuration\": {\n",
      "    \"market_market_ioc\": {\n",
      "      \"quote_size\": \"0.62\"\n",
      "    }\n",
      "  }\n",
      "}\n"
     ]
    }
   ],
   "source": [
    "product_id = \"BTC-USD\"\n",
    "quote_size = \"0.62\" # $\n",
    "order_data = client.market_order_buy(client_order_id=client_order_id, product_id=product_id, quote_size=quote_size)\n",
    "print(dumps(order_data, indent=2))"
   ]
  },
  {
   "cell_type": "markdown",
   "id": "c2ee5548-c088-4e99-9c51-63b19b92c6f4",
   "metadata": {},
   "source": [
    "#### Get order detail"
   ]
  },
  {
   "cell_type": "code",
   "execution_count": 18,
   "id": "dbeeef0a-9935-4cb5-90af-8c64bd27fe23",
   "metadata": {},
   "outputs": [
    {
     "name": "stdout",
     "output_type": "stream",
     "text": [
      "{'order': {'order_id': 'e51d9871-cecf-4b51-962a-23a1237edc68', 'product_id': 'BTC-USD', 'user_id': '241ed7c1-eaa4-5044-89d8-7a64de1ae161', 'order_configuration': {'market_market_ioc': {'base_size': '0.00001'}}, 'side': 'SELL', 'client_order_id': '1560dd6435e54a779dea04cf5dd532ae', 'status': 'FILLED', 'time_in_force': 'IMMEDIATE_OR_CANCEL', 'created_time': '2024-09-20T00:04:44.626527Z', 'completion_percentage': '100.00', 'filled_size': '0.00001', 'average_filled_price': '62933.38', 'fee': '', 'number_of_fills': '1', 'filled_value': '0.6293338', 'pending_cancel': False, 'size_in_quote': False, 'total_fees': '0.0075520056', 'size_inclusive_of_fees': False, 'total_value_after_fees': '0.6217817944', 'trigger_status': 'INVALID_ORDER_TYPE', 'order_type': 'MARKET', 'reject_reason': 'REJECT_REASON_UNSPECIFIED', 'settled': True, 'product_type': 'SPOT', 'reject_message': '', 'cancel_message': '', 'order_placement_source': 'RETAIL_ADVANCED', 'outstanding_hold_amount': '0', 'is_liquidation': False, 'last_fill_time': '2024-09-20T00:04:44.690981Z', 'edit_history': [], 'leverage': '', 'margin_type': 'UNKNOWN_MARGIN_TYPE', 'retail_portfolio_id': '241ed7c1-eaa4-5044-89d8-7a64de1ae161', 'originating_order_id': '', 'attached_order_id': '', 'attached_order_configuration': None}}\n"
     ]
    }
   ],
   "source": [
    "order_id = order_data.get(\"success_response\", {}).get(\"order_id\")\n",
    "order_details = client.get_order(order_id)\n",
    "print(order_details)"
   ]
  },
  {
   "cell_type": "code",
   "execution_count": 19,
   "id": "d0cc0825-5f98-4087-ade9-5a16dd9a6d98",
   "metadata": {},
   "outputs": [
    {
     "name": "stdout",
     "output_type": "stream",
     "text": [
      "{'success': True, 'success_response': {'order_id': 'e51d9871-cecf-4b51-962a-23a1237edc68', 'product_id': 'BTC-USD', 'side': 'BUY', 'client_order_id': '1560dd6435e54a779dea04cf5dd532ae', 'attached_order_id': ''}, 'order_configuration': {'market_market_ioc': {'quote_size': '0.62'}}}\n"
     ]
    }
   ],
   "source": [
    "order_id = order_data\n",
    "print(order_id)"
   ]
  },
  {
   "cell_type": "code",
   "execution_count": 25,
   "id": "c2f96197-4fc0-4a69-93d1-c5f9b7cdab6b",
   "metadata": {},
   "outputs": [
    {
     "name": "stdout",
     "output_type": "stream",
     "text": [
      "{'order_id': 'e51d9871-cecf-4b51-962a-23a1237edc68', 'product_id': 'BTC-USD', 'side': 'BUY', 'client_order_id': '1560dd6435e54a779dea04cf5dd532ae', 'attached_order_id': ''}\n"
     ]
    }
   ],
   "source": [
    "order_id = order_data.get(\"success_response\",{})\n",
    "print(order_id)"
   ]
  },
  {
   "cell_type": "code",
   "execution_count": 27,
   "id": "9ea4023c-4e05-4c84-b0fd-1c01973ac09c",
   "metadata": {},
   "outputs": [
    {
     "name": "stdout",
     "output_type": "stream",
     "text": [
      "e51d9871-cecf-4b51-962a-23a1237edc68\n"
     ]
    }
   ],
   "source": [
    "order_id = order_data.get(\"success_response\", {}).get(\"order_id\")\n",
    "print(order_id)"
   ]
  },
  {
   "cell_type": "code",
   "execution_count": 30,
   "id": "fc2d41bb-194f-43fb-8088-ac1f4431ea92",
   "metadata": {},
   "outputs": [
    {
     "name": "stdout",
     "output_type": "stream",
     "text": [
      "{'order': {'order_id': 'e51d9871-cecf-4b51-962a-23a1237edc68', 'product_id': 'BTC-USD', 'user_id': '241ed7c1-eaa4-5044-89d8-7a64de1ae161', 'order_configuration': {'market_market_ioc': {'base_size': '0.00001'}}, 'side': 'SELL', 'client_order_id': '1560dd6435e54a779dea04cf5dd532ae', 'status': 'FILLED', 'time_in_force': 'IMMEDIATE_OR_CANCEL', 'created_time': '2024-09-20T00:04:44.626527Z', 'completion_percentage': '100.00', 'filled_size': '0.00001', 'average_filled_price': '62933.38', 'fee': '', 'number_of_fills': '1', 'filled_value': '0.6293338', 'pending_cancel': False, 'size_in_quote': False, 'total_fees': '0.0075520056', 'size_inclusive_of_fees': False, 'total_value_after_fees': '0.6217817944', 'trigger_status': 'INVALID_ORDER_TYPE', 'order_type': 'MARKET', 'reject_reason': 'REJECT_REASON_UNSPECIFIED', 'settled': True, 'product_type': 'SPOT', 'reject_message': '', 'cancel_message': '', 'order_placement_source': 'RETAIL_ADVANCED', 'outstanding_hold_amount': '0', 'is_liquidation': False, 'last_fill_time': '2024-09-20T00:04:44.690981Z', 'edit_history': [], 'leverage': '', 'margin_type': 'UNKNOWN_MARGIN_TYPE', 'retail_portfolio_id': '241ed7c1-eaa4-5044-89d8-7a64de1ae161', 'originating_order_id': '', 'attached_order_id': '', 'attached_order_configuration': None}}\n"
     ]
    }
   ],
   "source": [
    "order_details = client.get_order(order_id)\n",
    "print(order_details)"
   ]
  },
  {
   "cell_type": "code",
   "execution_count": null,
   "id": "4604780b-5acf-4c63-aed9-07eb713ac543",
   "metadata": {},
   "outputs": [],
   "source": []
  },
  {
   "cell_type": "markdown",
   "id": "f4655a74-a60b-488c-8831-d1a6c81b77da",
   "metadata": {},
   "source": [
    "### 9) Place market Order SELL"
   ]
  },
  {
   "cell_type": "code",
   "execution_count": 31,
   "id": "87331f63-c023-413a-adc8-382072777f1f",
   "metadata": {
    "scrolled": true
   },
   "outputs": [
    {
     "name": "stdout",
     "output_type": "stream",
     "text": [
      "{\n",
      "  \"success\": true,\n",
      "  \"success_response\": {\n",
      "    \"order_id\": \"3e2c7444-288f-4219-af92-140c97518c2f\",\n",
      "    \"product_id\": \"BTC-USD\",\n",
      "    \"side\": \"SELL\",\n",
      "    \"client_order_id\": \"24ed2d26da2c4e9cabef8b46b3ac31a2\",\n",
      "    \"attached_order_id\": \"\"\n",
      "  },\n",
      "  \"order_configuration\": {\n",
      "    \"market_market_ioc\": {\n",
      "      \"base_size\": \"0.00001\"\n",
      "    }\n",
      "  }\n",
      "}\n"
     ]
    }
   ],
   "source": [
    "client_order_id = str(uuid.uuid4().hex)\n",
    "product_id = \"BTC-USD\"\n",
    "base_size = \"0.00001\" #BTC \n",
    "order_data = client.market_order_sell(client_order_id=client_order_id, product_id=product_id, base_size=base_size)\n",
    "print(dumps(order_data, indent=2))"
   ]
  },
  {
   "cell_type": "markdown",
   "id": "b3b0753d-b76a-424f-abbc-215dbe9e7cdd",
   "metadata": {},
   "source": [
    "#### Get order detail"
   ]
  },
  {
   "cell_type": "code",
   "execution_count": 32,
   "id": "62b0fd53-f5b2-4379-a9bb-01674934430a",
   "metadata": {},
   "outputs": [
    {
     "name": "stdout",
     "output_type": "stream",
     "text": [
      "{'order': {'order_id': '3e2c7444-288f-4219-af92-140c97518c2f', 'product_id': 'BTC-USD', 'user_id': '241ed7c1-eaa4-5044-89d8-7a64de1ae161', 'order_configuration': {'market_market_ioc': {'base_size': '0.00001'}}, 'side': 'SELL', 'client_order_id': '24ed2d26da2c4e9cabef8b46b3ac31a2', 'status': 'FILLED', 'time_in_force': 'IMMEDIATE_OR_CANCEL', 'created_time': '2024-09-20T00:12:46.419592Z', 'completion_percentage': '100.00', 'filled_size': '0.00001', 'average_filled_price': '62866.51', 'fee': '', 'number_of_fills': '1', 'filled_value': '0.6286651', 'pending_cancel': False, 'size_in_quote': False, 'total_fees': '0.0075439812', 'size_inclusive_of_fees': False, 'total_value_after_fees': '0.6211211188', 'trigger_status': 'INVALID_ORDER_TYPE', 'order_type': 'MARKET', 'reject_reason': 'REJECT_REASON_UNSPECIFIED', 'settled': True, 'product_type': 'SPOT', 'reject_message': '', 'cancel_message': '', 'order_placement_source': 'RETAIL_ADVANCED', 'outstanding_hold_amount': '0', 'is_liquidation': False, 'last_fill_time': '2024-09-20T00:12:46.482272Z', 'edit_history': [], 'leverage': '', 'margin_type': 'UNKNOWN_MARGIN_TYPE', 'retail_portfolio_id': '241ed7c1-eaa4-5044-89d8-7a64de1ae161', 'originating_order_id': '', 'attached_order_id': '', 'attached_order_configuration': None}}\n"
     ]
    }
   ],
   "source": [
    "order_id = order_data.get(\"success_response\", {}).get(\"order_id\")\n",
    "order_details = client.get_order(order_id)\n",
    "print(order_details)"
   ]
  },
  {
   "cell_type": "code",
   "execution_count": 33,
   "id": "d137e340-04ce-4ca5-a791-cf9dbcc0d4fb",
   "metadata": {},
   "outputs": [
    {
     "name": "stdout",
     "output_type": "stream",
     "text": [
      "{'order': {'order_id': '3e2c7444-288f-4219-af92-140c97518c2f', 'product_id': 'BTC-USD', 'user_id': '241ed7c1-eaa4-5044-89d8-7a64de1ae161', 'order_configuration': {'market_market_ioc': {'base_size': '0.00001'}}, 'side': 'SELL', 'client_order_id': '24ed2d26da2c4e9cabef8b46b3ac31a2', 'status': 'FILLED', 'time_in_force': 'IMMEDIATE_OR_CANCEL', 'created_time': '2024-09-20T00:12:46.419592Z', 'completion_percentage': '100.00', 'filled_size': '0.00001', 'average_filled_price': '62866.51', 'fee': '', 'number_of_fills': '1', 'filled_value': '0.6286651', 'pending_cancel': False, 'size_in_quote': False, 'total_fees': '0.0075439812', 'size_inclusive_of_fees': False, 'total_value_after_fees': '0.6211211188', 'trigger_status': 'INVALID_ORDER_TYPE', 'order_type': 'MARKET', 'reject_reason': 'REJECT_REASON_UNSPECIFIED', 'settled': True, 'product_type': 'SPOT', 'reject_message': '', 'cancel_message': '', 'order_placement_source': 'RETAIL_ADVANCED', 'outstanding_hold_amount': '0', 'is_liquidation': False, 'last_fill_time': '2024-09-20T00:12:46.482272Z', 'edit_history': [], 'leverage': '', 'margin_type': 'UNKNOWN_MARGIN_TYPE', 'retail_portfolio_id': '241ed7c1-eaa4-5044-89d8-7a64de1ae161', 'originating_order_id': '', 'attached_order_id': '', 'attached_order_configuration': None}}\n"
     ]
    }
   ],
   "source": [
    "order_details = client.get_order(order_id)\n",
    "print(order_details)"
   ]
  },
  {
   "cell_type": "markdown",
   "id": "7dbb0dda-cfe3-42f2-8636-57e9cc33ebd1",
   "metadata": {},
   "source": [
    "### Get list of order"
   ]
  },
  {
   "cell_type": "code",
   "execution_count": 36,
   "id": "c46e7e33-cfa3-402d-a60a-64cfa05db32c",
   "metadata": {},
   "outputs": [
    {
     "data": {
      "text/html": [
       "<div>\n",
       "<style scoped>\n",
       "    .dataframe tbody tr th:only-of-type {\n",
       "        vertical-align: middle;\n",
       "    }\n",
       "\n",
       "    .dataframe tbody tr th {\n",
       "        vertical-align: top;\n",
       "    }\n",
       "\n",
       "    .dataframe thead th {\n",
       "        text-align: right;\n",
       "    }\n",
       "</style>\n",
       "<table border=\"1\" class=\"dataframe\">\n",
       "  <thead>\n",
       "    <tr style=\"text-align: right;\">\n",
       "      <th></th>\n",
       "      <th>order_id</th>\n",
       "      <th>product_id</th>\n",
       "      <th>user_id</th>\n",
       "      <th>side</th>\n",
       "      <th>client_order_id</th>\n",
       "      <th>status</th>\n",
       "      <th>time_in_force</th>\n",
       "      <th>created_time</th>\n",
       "      <th>completion_percentage</th>\n",
       "      <th>filled_size</th>\n",
       "      <th>...</th>\n",
       "      <th>is_liquidation</th>\n",
       "      <th>last_fill_time</th>\n",
       "      <th>edit_history</th>\n",
       "      <th>leverage</th>\n",
       "      <th>margin_type</th>\n",
       "      <th>retail_portfolio_id</th>\n",
       "      <th>originating_order_id</th>\n",
       "      <th>attached_order_id</th>\n",
       "      <th>attached_order_configuration</th>\n",
       "      <th>order_configuration.market_market_ioc.base_size</th>\n",
       "    </tr>\n",
       "  </thead>\n",
       "  <tbody>\n",
       "    <tr>\n",
       "      <th>0</th>\n",
       "      <td>3e2c7444-288f-4219-af92-140c97518c2f</td>\n",
       "      <td>BTC-USD</td>\n",
       "      <td>241ed7c1-eaa4-5044-89d8-7a64de1ae161</td>\n",
       "      <td>SELL</td>\n",
       "      <td>24ed2d26da2c4e9cabef8b46b3ac31a2</td>\n",
       "      <td>FILLED</td>\n",
       "      <td>IMMEDIATE_OR_CANCEL</td>\n",
       "      <td>2024-09-20T00:12:46.419592Z</td>\n",
       "      <td>100.00</td>\n",
       "      <td>0.00001</td>\n",
       "      <td>...</td>\n",
       "      <td>False</td>\n",
       "      <td>2024-09-20T00:12:46.482272Z</td>\n",
       "      <td>[]</td>\n",
       "      <td></td>\n",
       "      <td>UNKNOWN_MARGIN_TYPE</td>\n",
       "      <td>241ed7c1-eaa4-5044-89d8-7a64de1ae161</td>\n",
       "      <td></td>\n",
       "      <td></td>\n",
       "      <td>None</td>\n",
       "      <td>0.00001</td>\n",
       "    </tr>\n",
       "    <tr>\n",
       "      <th>1</th>\n",
       "      <td>e51d9871-cecf-4b51-962a-23a1237edc68</td>\n",
       "      <td>BTC-USD</td>\n",
       "      <td>241ed7c1-eaa4-5044-89d8-7a64de1ae161</td>\n",
       "      <td>SELL</td>\n",
       "      <td>1560dd6435e54a779dea04cf5dd532ae</td>\n",
       "      <td>FILLED</td>\n",
       "      <td>IMMEDIATE_OR_CANCEL</td>\n",
       "      <td>2024-09-20T00:04:44.626527Z</td>\n",
       "      <td>100.00</td>\n",
       "      <td>0.00001</td>\n",
       "      <td>...</td>\n",
       "      <td>False</td>\n",
       "      <td>2024-09-20T00:04:44.690981Z</td>\n",
       "      <td>[]</td>\n",
       "      <td></td>\n",
       "      <td>UNKNOWN_MARGIN_TYPE</td>\n",
       "      <td>241ed7c1-eaa4-5044-89d8-7a64de1ae161</td>\n",
       "      <td></td>\n",
       "      <td></td>\n",
       "      <td>None</td>\n",
       "      <td>0.00001</td>\n",
       "    </tr>\n",
       "  </tbody>\n",
       "</table>\n",
       "<p>2 rows × 38 columns</p>\n",
       "</div>"
      ],
      "text/plain": [
       "                               order_id product_id  \\\n",
       "0  3e2c7444-288f-4219-af92-140c97518c2f    BTC-USD   \n",
       "1  e51d9871-cecf-4b51-962a-23a1237edc68    BTC-USD   \n",
       "\n",
       "                                user_id  side  \\\n",
       "0  241ed7c1-eaa4-5044-89d8-7a64de1ae161  SELL   \n",
       "1  241ed7c1-eaa4-5044-89d8-7a64de1ae161  SELL   \n",
       "\n",
       "                    client_order_id  status        time_in_force  \\\n",
       "0  24ed2d26da2c4e9cabef8b46b3ac31a2  FILLED  IMMEDIATE_OR_CANCEL   \n",
       "1  1560dd6435e54a779dea04cf5dd532ae  FILLED  IMMEDIATE_OR_CANCEL   \n",
       "\n",
       "                  created_time completion_percentage filled_size  ...  \\\n",
       "0  2024-09-20T00:12:46.419592Z                100.00     0.00001  ...   \n",
       "1  2024-09-20T00:04:44.626527Z                100.00     0.00001  ...   \n",
       "\n",
       "  is_liquidation               last_fill_time edit_history leverage  \\\n",
       "0          False  2024-09-20T00:12:46.482272Z           []            \n",
       "1          False  2024-09-20T00:04:44.690981Z           []            \n",
       "\n",
       "           margin_type                   retail_portfolio_id  \\\n",
       "0  UNKNOWN_MARGIN_TYPE  241ed7c1-eaa4-5044-89d8-7a64de1ae161   \n",
       "1  UNKNOWN_MARGIN_TYPE  241ed7c1-eaa4-5044-89d8-7a64de1ae161   \n",
       "\n",
       "  originating_order_id  attached_order_id attached_order_configuration  \\\n",
       "0                                                                 None   \n",
       "1                                                                 None   \n",
       "\n",
       "  order_configuration.market_market_ioc.base_size  \n",
       "0                                         0.00001  \n",
       "1                                         0.00001  \n",
       "\n",
       "[2 rows x 38 columns]"
      ]
     },
     "execution_count": 36,
     "metadata": {},
     "output_type": "execute_result"
    }
   ],
   "source": [
    "list_orders = client.list_orders()\n",
    "orders_data = list_orders.get('orders', {})\n",
    "df = pd.json_normalize(orders_data)\n",
    "df"
   ]
  },
  {
   "cell_type": "code",
   "execution_count": null,
   "id": "cc9db585-0a16-4c33-bea1-ad1509d6f82c",
   "metadata": {},
   "outputs": [],
   "source": []
  }
 ],
 "metadata": {
  "kernelspec": {
   "display_name": "Python 3 (ipykernel)",
   "language": "python",
   "name": "python3"
  },
  "language_info": {
   "codemirror_mode": {
    "name": "ipython",
    "version": 3
   },
   "file_extension": ".py",
   "mimetype": "text/x-python",
   "name": "python",
   "nbconvert_exporter": "python",
   "pygments_lexer": "ipython3",
   "version": "3.8.19"
  }
 },
 "nbformat": 4,
 "nbformat_minor": 5
}
