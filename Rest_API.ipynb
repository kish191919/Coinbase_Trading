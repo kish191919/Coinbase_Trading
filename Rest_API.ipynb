{
 "cells": [
  {
   "cell_type": "markdown",
   "id": "281f1049-28c5-4084-a71a-cd4a85e91997",
   "metadata": {},
   "source": [
    "### Required library"
   ]
  },
  {
   "cell_type": "code",
   "execution_count": 21,
   "id": "a0142353-f094-4696-9c80-8ccb4641ea77",
   "metadata": {},
   "outputs": [],
   "source": [
    "import os\n",
    "from dotenv import load_dotenv\n",
    "from coinbase.rest import RESTClient\n",
    "from json import dumps\n",
    "from datetime import datetime, timedelta\n",
    "import pandas as pd\n",
    "import uuid\n"
   ]
  },
  {
   "cell_type": "markdown",
   "id": "9c5064c9-bb99-4e68-92a8-69c414ed53c3",
   "metadata": {},
   "source": [
    "### 1) Provide API key"
   ]
  },
  {
   "cell_type": "code",
   "execution_count": 22,
   "id": "2e2ffefb-1d57-4bc2-9f25-cc667baacaa5",
   "metadata": {},
   "outputs": [],
   "source": [
    "load_dotenv()\n",
    "api_key = os.getenv(\"api_key\")\n",
    "api_secret = os.getenv(\"api_secret\")\n",
    "\n",
    "# Create Instance\n",
    "client = RESTClient(api_key=api_key, api_secret=api_secret)"
   ]
  },
  {
   "cell_type": "markdown",
   "id": "a18d6143-d5ec-4d9d-a283-a492391b56e9",
   "metadata": {},
   "source": [
    "### 2) Get account information"
   ]
  },
  {
   "cell_type": "code",
   "execution_count": 23,
   "id": "9a263a29-a2b2-4075-8d9f-a8d19283b508",
   "metadata": {},
   "outputs": [],
   "source": [
    "accounts = client.get_accounts()\n",
    "# print(dumps(accounts, indent=2))"
   ]
  },
  {
   "cell_type": "markdown",
   "id": "c32dd27f-a73a-431e-bf1a-65ae727e1f35",
   "metadata": {},
   "source": [
    "### 3) Get specific account information"
   ]
  },
  {
   "cell_type": "code",
   "execution_count": 25,
   "id": "a457cd34-1cb8-4318-bc27-b7590504e561",
   "metadata": {},
   "outputs": [],
   "source": [
    "account_uuid = os.getenv(\"account_uuid\")\n",
    "account_details = client.get_account(account_uuid)\n",
    "# print(dumps(account_details, indent=2))"
   ]
  },
  {
   "cell_type": "markdown",
   "id": "32b45c0d-e7e7-43a2-95c5-978633a478cb",
   "metadata": {},
   "source": [
    "### 4) Get Time"
   ]
  },
  {
   "cell_type": "code",
   "execution_count": 31,
   "id": "b2cbd67e-1b0a-4890-9416-e91c2e5d21cd",
   "metadata": {},
   "outputs": [
    {
     "name": "stdout",
     "output_type": "stream",
     "text": [
      "Time_dict : {'iso': '2024-09-18T14:31:16Z', 'epochSeconds': '1726669876', 'epochMillis': '1726669876281'}\n",
      "ISO Time : 2024-09-18T14:31:16Z\n",
      "Epoch Seconds : 1726669876\n",
      "Epoch Millis : 1726669876281\n"
     ]
    }
   ],
   "source": [
    "time_dict = client.get_unix_time()\n",
    "iso_time = time_dict[\"iso\"]\n",
    "epoch_seconds = int(time_dict[\"epochSeconds\"])\n",
    "epoch_millis = int(time_dict[\"epochMillis\"])\n",
    "\n",
    "print(f\"Time_dict : {time_dict}\")\n",
    "print(f\"ISO Time : {iso_time}\")\n",
    "print(f\"Epoch Seconds : {epoch_seconds}\")\n",
    "print(f\"Epoch Millis : {epoch_millis}\")"
   ]
  },
  {
   "cell_type": "markdown",
   "id": "9408ccec-f9b8-4ad5-b03c-b39e82882f8b",
   "metadata": {},
   "source": [
    "### 5) Retrieve Fees Charged"
   ]
  },
  {
   "cell_type": "code",
   "execution_count": 33,
   "id": "5dd147af-5869-4ff2-bce1-52e2939602bc",
   "metadata": {},
   "outputs": [
    {
     "name": "stdout",
     "output_type": "stream",
     "text": [
      "<class 'dict'>\n",
      "{'total_volume': 0, 'total_fees': 0, 'fee_tier': {'pricing_tier': 'Advanced 1', 'usd_from': '0', 'usd_to': '1000', 'taker_fee_rate': '0.012', 'maker_fee_rate': '0.006', 'aop_from': '', 'aop_to': ''}, 'margin_rate': None, 'goods_and_services_tax': None, 'advanced_trade_only_volume': 0, 'advanced_trade_only_fees': 0, 'coinbase_pro_volume': 0, 'coinbase_pro_fees': 0, 'total_balance': '10.00', 'has_promo_fee': False}\n"
     ]
    }
   ],
   "source": [
    "product_type = \"SPOT\"\n",
    "contract_expiry_type = \"UNKNOW_CONTRACT\"\n",
    "summary = client.get_transaction_summary()\n",
    "print(type(summary))\n",
    "print(summary)"
   ]
  },
  {
   "cell_type": "markdown",
   "id": "abc9ca5d-6c59-4957-a93c-2e020f80da1d",
   "metadata": {},
   "source": [
    "### 6) Get Market Data"
   ]
  },
  {
   "cell_type": "code",
   "execution_count": 53,
   "id": "575a757f-8fe3-4573-b567-42cc46ee2ecb",
   "metadata": {},
   "outputs": [
    {
     "data": {
      "text/html": [
       "<div>\n",
       "<style scoped>\n",
       "    .dataframe tbody tr th:only-of-type {\n",
       "        vertical-align: middle;\n",
       "    }\n",
       "\n",
       "    .dataframe tbody tr th {\n",
       "        vertical-align: top;\n",
       "    }\n",
       "\n",
       "    .dataframe thead th {\n",
       "        text-align: right;\n",
       "    }\n",
       "</style>\n",
       "<table border=\"1\" class=\"dataframe\">\n",
       "  <thead>\n",
       "    <tr style=\"text-align: right;\">\n",
       "      <th></th>\n",
       "      <th>start</th>\n",
       "      <th>low</th>\n",
       "      <th>high</th>\n",
       "      <th>open</th>\n",
       "      <th>close</th>\n",
       "      <th>volume</th>\n",
       "    </tr>\n",
       "  </thead>\n",
       "  <tbody>\n",
       "    <tr>\n",
       "      <th>0</th>\n",
       "      <td>2024-09-18 14:00:32</td>\n",
       "      <td>59326.22</td>\n",
       "      <td>59771.37</td>\n",
       "      <td>59496.64</td>\n",
       "      <td>59537.51</td>\n",
       "      <td>591.24751032</td>\n",
       "    </tr>\n",
       "    <tr>\n",
       "      <th>1</th>\n",
       "      <td>2024-09-18 13:00:48</td>\n",
       "      <td>59285.17</td>\n",
       "      <td>60166.29</td>\n",
       "      <td>59981.5</td>\n",
       "      <td>59496.64</td>\n",
       "      <td>589.57892615</td>\n",
       "    </tr>\n",
       "    <tr>\n",
       "      <th>2</th>\n",
       "      <td>2024-09-18 12:01:04</td>\n",
       "      <td>59689.69</td>\n",
       "      <td>60005.53</td>\n",
       "      <td>59848.5</td>\n",
       "      <td>59981.5</td>\n",
       "      <td>198.14410231</td>\n",
       "    </tr>\n",
       "    <tr>\n",
       "      <th>3</th>\n",
       "      <td>2024-09-18 10:59:12</td>\n",
       "      <td>59825</td>\n",
       "      <td>60017.25</td>\n",
       "      <td>59907.58</td>\n",
       "      <td>59848.5</td>\n",
       "      <td>107.4392174</td>\n",
       "    </tr>\n",
       "    <tr>\n",
       "      <th>4</th>\n",
       "      <td>2024-09-18 09:59:28</td>\n",
       "      <td>59382.17</td>\n",
       "      <td>59927.4</td>\n",
       "      <td>59661.87</td>\n",
       "      <td>59907.58</td>\n",
       "      <td>335.88343756</td>\n",
       "    </tr>\n",
       "  </tbody>\n",
       "</table>\n",
       "</div>"
      ],
      "text/plain": [
       "                start       low      high      open     close        volume\n",
       "0 2024-09-18 14:00:32  59326.22  59771.37  59496.64  59537.51  591.24751032\n",
       "1 2024-09-18 13:00:48  59285.17  60166.29   59981.5  59496.64  589.57892615\n",
       "2 2024-09-18 12:01:04  59689.69  60005.53   59848.5   59981.5  198.14410231\n",
       "3 2024-09-18 10:59:12     59825  60017.25  59907.58   59848.5   107.4392174\n",
       "4 2024-09-18 09:59:28  59382.17   59927.4  59661.87  59907.58  335.88343756"
      ]
     },
     "execution_count": 53,
     "metadata": {},
     "output_type": "execute_result"
    }
   ],
   "source": [
    "product_id = \"BTC-USD\"\n",
    "\n",
    "# 86400 = 24 x 60 x 60\n",
    "end = datetime.now()\n",
    "start = end - timedelta(hours=24)\n",
    "\n",
    "end_unix = int(end.timestamp())\n",
    "start_unix = int(start.timestamp())\n",
    "\n",
    "# ONE_MINUTE, FIVE_MINUTE, FIFTEEN_MINUTE, THIRTY_MINUTE, ONE_HOUR, TWO_HOUR, SIX_HOUR, ONE_DATE\n",
    "granularity = \"ONE_HOUR\"\n",
    "\n",
    "data = client.get_candles(product_id, start_unix, end_unix, granularity)\n",
    "candle_data = data[\"candles\"]\n",
    "\n",
    "# unit = (D,s,ms,us,ns)\n",
    "df_candles = pd.DataFrame(candle_data)\n",
    "df_candles['start'] = pd.to_datetime(df['start'], unit='s')\n",
    "\n",
    "df_candles.head()\n"
   ]
  },
  {
   "cell_type": "markdown",
   "id": "ac1500a7-9f82-49ec-9189-b4d98d600be0",
   "metadata": {},
   "source": [
    "### 7) Get Trade Data"
   ]
  },
  {
   "cell_type": "code",
   "execution_count": 52,
   "id": "bcb1a982-86ca-47d1-928e-b32e3e282e2f",
   "metadata": {},
   "outputs": [
    {
     "data": {
      "text/html": [
       "<div>\n",
       "<style scoped>\n",
       "    .dataframe tbody tr th:only-of-type {\n",
       "        vertical-align: middle;\n",
       "    }\n",
       "\n",
       "    .dataframe tbody tr th {\n",
       "        vertical-align: top;\n",
       "    }\n",
       "\n",
       "    .dataframe thead th {\n",
       "        text-align: right;\n",
       "    }\n",
       "</style>\n",
       "<table border=\"1\" class=\"dataframe\">\n",
       "  <thead>\n",
       "    <tr style=\"text-align: right;\">\n",
       "      <th></th>\n",
       "      <th>trade_id</th>\n",
       "      <th>product_id</th>\n",
       "      <th>price</th>\n",
       "      <th>size</th>\n",
       "      <th>time</th>\n",
       "      <th>side</th>\n",
       "      <th>bid</th>\n",
       "      <th>ask</th>\n",
       "    </tr>\n",
       "  </thead>\n",
       "  <tbody>\n",
       "    <tr>\n",
       "      <th>0</th>\n",
       "      <td>693257865</td>\n",
       "      <td>BTC-USD</td>\n",
       "      <td>59528.82</td>\n",
       "      <td>0.00003</td>\n",
       "      <td>2024-09-18T14:56:08.336568Z</td>\n",
       "      <td>BUY</td>\n",
       "      <td></td>\n",
       "      <td></td>\n",
       "    </tr>\n",
       "    <tr>\n",
       "      <th>1</th>\n",
       "      <td>693257864</td>\n",
       "      <td>BTC-USD</td>\n",
       "      <td>59523.65</td>\n",
       "      <td>0.00003</td>\n",
       "      <td>2024-09-18T14:56:08.292235Z</td>\n",
       "      <td>SELL</td>\n",
       "      <td></td>\n",
       "      <td></td>\n",
       "    </tr>\n",
       "    <tr>\n",
       "      <th>2</th>\n",
       "      <td>693257863</td>\n",
       "      <td>BTC-USD</td>\n",
       "      <td>59523.65</td>\n",
       "      <td>0.00002148</td>\n",
       "      <td>2024-09-18T14:56:08.292235Z</td>\n",
       "      <td>SELL</td>\n",
       "      <td></td>\n",
       "      <td></td>\n",
       "    </tr>\n",
       "    <tr>\n",
       "      <th>3</th>\n",
       "      <td>693257862</td>\n",
       "      <td>BTC-USD</td>\n",
       "      <td>59523.65</td>\n",
       "      <td>0.00026166</td>\n",
       "      <td>2024-09-18T14:56:08.292235Z</td>\n",
       "      <td>SELL</td>\n",
       "      <td></td>\n",
       "      <td></td>\n",
       "    </tr>\n",
       "    <tr>\n",
       "      <th>4</th>\n",
       "      <td>693257861</td>\n",
       "      <td>BTC-USD</td>\n",
       "      <td>59525.77</td>\n",
       "      <td>0.00135269</td>\n",
       "      <td>2024-09-18T14:56:08.022790Z</td>\n",
       "      <td>SELL</td>\n",
       "      <td></td>\n",
       "      <td></td>\n",
       "    </tr>\n",
       "  </tbody>\n",
       "</table>\n",
       "</div>"
      ],
      "text/plain": [
       "    trade_id product_id     price        size                         time  \\\n",
       "0  693257865    BTC-USD  59528.82     0.00003  2024-09-18T14:56:08.336568Z   \n",
       "1  693257864    BTC-USD  59523.65     0.00003  2024-09-18T14:56:08.292235Z   \n",
       "2  693257863    BTC-USD  59523.65  0.00002148  2024-09-18T14:56:08.292235Z   \n",
       "3  693257862    BTC-USD  59523.65  0.00026166  2024-09-18T14:56:08.292235Z   \n",
       "4  693257861    BTC-USD  59525.77  0.00135269  2024-09-18T14:56:08.022790Z   \n",
       "\n",
       "   side bid ask  \n",
       "0   BUY          \n",
       "1  SELL          \n",
       "2  SELL          \n",
       "3  SELL          \n",
       "4  SELL          "
      ]
     },
     "execution_count": 52,
     "metadata": {},
     "output_type": "execute_result"
    }
   ],
   "source": [
    "product_id = \"BTC-USD\"\n",
    "limit = \"50\"\n",
    "data = client.get_market_trades(product_id, limit)\n",
    "trade_data = data[\"trades\"]\n",
    "\n",
    "df_trade = pd.DataFrame(trade_data)\n",
    "df_trade.head()\n"
   ]
  },
  {
   "cell_type": "code",
   "execution_count": null,
   "id": "b5f06405-24be-475b-b025-0bfcb4c8ebff",
   "metadata": {},
   "outputs": [],
   "source": []
  }
 ],
 "metadata": {
  "kernelspec": {
   "display_name": "Python 3 (ipykernel)",
   "language": "python",
   "name": "python3"
  },
  "language_info": {
   "codemirror_mode": {
    "name": "ipython",
    "version": 3
   },
   "file_extension": ".py",
   "mimetype": "text/x-python",
   "name": "python",
   "nbconvert_exporter": "python",
   "pygments_lexer": "ipython3",
   "version": "3.8.19"
  }
 },
 "nbformat": 4,
 "nbformat_minor": 5
}
